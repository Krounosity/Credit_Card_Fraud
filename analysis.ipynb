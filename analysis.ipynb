{
 "cells": [
  {
   "cell_type": "code",
   "execution_count": 92,
   "id": "bf44a660",
   "metadata": {},
   "outputs": [],
   "source": [
    "import pandas as pd\n",
    "import numpy as np\n",
    "import seaborn as sns\n",
    "import matplotlib.pyplot as plt\n",
    "%matplotlib inline"
   ]
  },
  {
   "cell_type": "code",
   "execution_count": 93,
   "id": "00355ef3",
   "metadata": {},
   "outputs": [],
   "source": [
    "from sklearn.model_selection import train_test_split\n",
    "from sklearn.preprocessing import MinMaxScaler"
   ]
  },
  {
   "cell_type": "code",
   "execution_count": 134,
   "id": "2e18322f",
   "metadata": {},
   "outputs": [],
   "source": [
    "from sklearn.linear_model import LogisticRegression\n",
    "from sklearn.tree import DecisionTreeClassifier\n",
    "from sklearn.ensemble import RandomForestClassifier\n",
    "from sklearn.neighbors import KNeighborsClassifier\n",
    "from sklearn.naive_bayes import GaussianNB"
   ]
  },
  {
   "cell_type": "code",
   "execution_count": 131,
   "id": "5f48af8e",
   "metadata": {},
   "outputs": [],
   "source": [
    "from xgboost import XGBClassifier"
   ]
  },
  {
   "cell_type": "code",
   "execution_count": 94,
   "id": "b6a6c6be",
   "metadata": {},
   "outputs": [],
   "source": [
    "from imblearn.under_sampling import RandomUnderSampler\n",
    "from imblearn.over_sampling import SMOTE\n",
    "from imblearn.combine import SMOTETomek"
   ]
  },
  {
   "cell_type": "code",
   "execution_count": 95,
   "id": "153d767b",
   "metadata": {},
   "outputs": [],
   "source": [
    "df = pd.read_csv('data/creditcard_fraud_detection.csv')"
   ]
  },
  {
   "cell_type": "code",
   "execution_count": 96,
   "id": "010e1d81",
   "metadata": {},
   "outputs": [
    {
     "data": {
      "text/html": [
       "<div>\n",
       "<style scoped>\n",
       "    .dataframe tbody tr th:only-of-type {\n",
       "        vertical-align: middle;\n",
       "    }\n",
       "\n",
       "    .dataframe tbody tr th {\n",
       "        vertical-align: top;\n",
       "    }\n",
       "\n",
       "    .dataframe thead th {\n",
       "        text-align: right;\n",
       "    }\n",
       "</style>\n",
       "<table border=\"1\" class=\"dataframe\">\n",
       "  <thead>\n",
       "    <tr style=\"text-align: right;\">\n",
       "      <th></th>\n",
       "      <th>Time</th>\n",
       "      <th>V1</th>\n",
       "      <th>V2</th>\n",
       "      <th>V3</th>\n",
       "      <th>V4</th>\n",
       "      <th>V5</th>\n",
       "      <th>V6</th>\n",
       "      <th>V7</th>\n",
       "      <th>V8</th>\n",
       "      <th>V9</th>\n",
       "      <th>...</th>\n",
       "      <th>V21</th>\n",
       "      <th>V22</th>\n",
       "      <th>V23</th>\n",
       "      <th>V24</th>\n",
       "      <th>V25</th>\n",
       "      <th>V26</th>\n",
       "      <th>V27</th>\n",
       "      <th>V28</th>\n",
       "      <th>Amount</th>\n",
       "      <th>Class</th>\n",
       "    </tr>\n",
       "  </thead>\n",
       "  <tbody>\n",
       "    <tr>\n",
       "      <th>0</th>\n",
       "      <td>0.0</td>\n",
       "      <td>-1.359807</td>\n",
       "      <td>-0.072781</td>\n",
       "      <td>2.536347</td>\n",
       "      <td>1.378155</td>\n",
       "      <td>-0.338321</td>\n",
       "      <td>0.462388</td>\n",
       "      <td>0.239599</td>\n",
       "      <td>0.098698</td>\n",
       "      <td>0.363787</td>\n",
       "      <td>...</td>\n",
       "      <td>-0.018307</td>\n",
       "      <td>0.277838</td>\n",
       "      <td>-0.110474</td>\n",
       "      <td>0.066928</td>\n",
       "      <td>0.128539</td>\n",
       "      <td>-0.189115</td>\n",
       "      <td>0.133558</td>\n",
       "      <td>-0.021053</td>\n",
       "      <td>149.62</td>\n",
       "      <td>0</td>\n",
       "    </tr>\n",
       "    <tr>\n",
       "      <th>1</th>\n",
       "      <td>0.0</td>\n",
       "      <td>1.191857</td>\n",
       "      <td>0.266151</td>\n",
       "      <td>0.166480</td>\n",
       "      <td>0.448154</td>\n",
       "      <td>0.060018</td>\n",
       "      <td>-0.082361</td>\n",
       "      <td>-0.078803</td>\n",
       "      <td>0.085102</td>\n",
       "      <td>-0.255425</td>\n",
       "      <td>...</td>\n",
       "      <td>-0.225775</td>\n",
       "      <td>-0.638672</td>\n",
       "      <td>0.101288</td>\n",
       "      <td>-0.339846</td>\n",
       "      <td>0.167170</td>\n",
       "      <td>0.125895</td>\n",
       "      <td>-0.008983</td>\n",
       "      <td>0.014724</td>\n",
       "      <td>2.69</td>\n",
       "      <td>0</td>\n",
       "    </tr>\n",
       "    <tr>\n",
       "      <th>2</th>\n",
       "      <td>1.0</td>\n",
       "      <td>-1.358354</td>\n",
       "      <td>-1.340163</td>\n",
       "      <td>1.773209</td>\n",
       "      <td>0.379780</td>\n",
       "      <td>-0.503198</td>\n",
       "      <td>1.800499</td>\n",
       "      <td>0.791461</td>\n",
       "      <td>0.247676</td>\n",
       "      <td>-1.514654</td>\n",
       "      <td>...</td>\n",
       "      <td>0.247998</td>\n",
       "      <td>0.771679</td>\n",
       "      <td>0.909412</td>\n",
       "      <td>-0.689281</td>\n",
       "      <td>-0.327642</td>\n",
       "      <td>-0.139097</td>\n",
       "      <td>-0.055353</td>\n",
       "      <td>-0.059752</td>\n",
       "      <td>378.66</td>\n",
       "      <td>0</td>\n",
       "    </tr>\n",
       "    <tr>\n",
       "      <th>3</th>\n",
       "      <td>1.0</td>\n",
       "      <td>-0.966272</td>\n",
       "      <td>-0.185226</td>\n",
       "      <td>1.792993</td>\n",
       "      <td>-0.863291</td>\n",
       "      <td>-0.010309</td>\n",
       "      <td>1.247203</td>\n",
       "      <td>0.237609</td>\n",
       "      <td>0.377436</td>\n",
       "      <td>-1.387024</td>\n",
       "      <td>...</td>\n",
       "      <td>-0.108300</td>\n",
       "      <td>0.005274</td>\n",
       "      <td>-0.190321</td>\n",
       "      <td>-1.175575</td>\n",
       "      <td>0.647376</td>\n",
       "      <td>-0.221929</td>\n",
       "      <td>0.062723</td>\n",
       "      <td>0.061458</td>\n",
       "      <td>123.50</td>\n",
       "      <td>0</td>\n",
       "    </tr>\n",
       "    <tr>\n",
       "      <th>4</th>\n",
       "      <td>2.0</td>\n",
       "      <td>-1.158233</td>\n",
       "      <td>0.877737</td>\n",
       "      <td>1.548718</td>\n",
       "      <td>0.403034</td>\n",
       "      <td>-0.407193</td>\n",
       "      <td>0.095921</td>\n",
       "      <td>0.592941</td>\n",
       "      <td>-0.270533</td>\n",
       "      <td>0.817739</td>\n",
       "      <td>...</td>\n",
       "      <td>-0.009431</td>\n",
       "      <td>0.798278</td>\n",
       "      <td>-0.137458</td>\n",
       "      <td>0.141267</td>\n",
       "      <td>-0.206010</td>\n",
       "      <td>0.502292</td>\n",
       "      <td>0.219422</td>\n",
       "      <td>0.215153</td>\n",
       "      <td>69.99</td>\n",
       "      <td>0</td>\n",
       "    </tr>\n",
       "  </tbody>\n",
       "</table>\n",
       "<p>5 rows × 31 columns</p>\n",
       "</div>"
      ],
      "text/plain": [
       "   Time        V1        V2        V3        V4        V5        V6        V7  \\\n",
       "0   0.0 -1.359807 -0.072781  2.536347  1.378155 -0.338321  0.462388  0.239599   \n",
       "1   0.0  1.191857  0.266151  0.166480  0.448154  0.060018 -0.082361 -0.078803   \n",
       "2   1.0 -1.358354 -1.340163  1.773209  0.379780 -0.503198  1.800499  0.791461   \n",
       "3   1.0 -0.966272 -0.185226  1.792993 -0.863291 -0.010309  1.247203  0.237609   \n",
       "4   2.0 -1.158233  0.877737  1.548718  0.403034 -0.407193  0.095921  0.592941   \n",
       "\n",
       "         V8        V9  ...       V21       V22       V23       V24       V25  \\\n",
       "0  0.098698  0.363787  ... -0.018307  0.277838 -0.110474  0.066928  0.128539   \n",
       "1  0.085102 -0.255425  ... -0.225775 -0.638672  0.101288 -0.339846  0.167170   \n",
       "2  0.247676 -1.514654  ...  0.247998  0.771679  0.909412 -0.689281 -0.327642   \n",
       "3  0.377436 -1.387024  ... -0.108300  0.005274 -0.190321 -1.175575  0.647376   \n",
       "4 -0.270533  0.817739  ... -0.009431  0.798278 -0.137458  0.141267 -0.206010   \n",
       "\n",
       "        V26       V27       V28  Amount  Class  \n",
       "0 -0.189115  0.133558 -0.021053  149.62      0  \n",
       "1  0.125895 -0.008983  0.014724    2.69      0  \n",
       "2 -0.139097 -0.055353 -0.059752  378.66      0  \n",
       "3 -0.221929  0.062723  0.061458  123.50      0  \n",
       "4  0.502292  0.219422  0.215153   69.99      0  \n",
       "\n",
       "[5 rows x 31 columns]"
      ]
     },
     "execution_count": 96,
     "metadata": {},
     "output_type": "execute_result"
    }
   ],
   "source": [
    "df.head()"
   ]
  },
  {
   "cell_type": "code",
   "execution_count": 97,
   "id": "99f4686e",
   "metadata": {},
   "outputs": [
    {
     "data": {
      "text/html": [
       "<div>\n",
       "<style scoped>\n",
       "    .dataframe tbody tr th:only-of-type {\n",
       "        vertical-align: middle;\n",
       "    }\n",
       "\n",
       "    .dataframe tbody tr th {\n",
       "        vertical-align: top;\n",
       "    }\n",
       "\n",
       "    .dataframe thead th {\n",
       "        text-align: right;\n",
       "    }\n",
       "</style>\n",
       "<table border=\"1\" class=\"dataframe\">\n",
       "  <thead>\n",
       "    <tr style=\"text-align: right;\">\n",
       "      <th></th>\n",
       "      <th>Time</th>\n",
       "      <th>V1</th>\n",
       "      <th>V2</th>\n",
       "      <th>V3</th>\n",
       "      <th>V4</th>\n",
       "      <th>V5</th>\n",
       "      <th>V6</th>\n",
       "      <th>V7</th>\n",
       "      <th>V8</th>\n",
       "      <th>V9</th>\n",
       "      <th>...</th>\n",
       "      <th>V21</th>\n",
       "      <th>V22</th>\n",
       "      <th>V23</th>\n",
       "      <th>V24</th>\n",
       "      <th>V25</th>\n",
       "      <th>V26</th>\n",
       "      <th>V27</th>\n",
       "      <th>V28</th>\n",
       "      <th>Amount</th>\n",
       "      <th>Class</th>\n",
       "    </tr>\n",
       "  </thead>\n",
       "  <tbody>\n",
       "    <tr>\n",
       "      <th>count</th>\n",
       "      <td>284807.000000</td>\n",
       "      <td>2.848070e+05</td>\n",
       "      <td>2.848070e+05</td>\n",
       "      <td>2.848070e+05</td>\n",
       "      <td>2.848070e+05</td>\n",
       "      <td>2.848070e+05</td>\n",
       "      <td>2.848070e+05</td>\n",
       "      <td>2.848070e+05</td>\n",
       "      <td>2.848070e+05</td>\n",
       "      <td>2.848070e+05</td>\n",
       "      <td>...</td>\n",
       "      <td>2.848070e+05</td>\n",
       "      <td>2.848070e+05</td>\n",
       "      <td>2.848070e+05</td>\n",
       "      <td>2.848070e+05</td>\n",
       "      <td>2.848070e+05</td>\n",
       "      <td>2.848070e+05</td>\n",
       "      <td>2.848070e+05</td>\n",
       "      <td>2.848070e+05</td>\n",
       "      <td>284807.000000</td>\n",
       "      <td>284807.000000</td>\n",
       "    </tr>\n",
       "    <tr>\n",
       "      <th>mean</th>\n",
       "      <td>94813.859575</td>\n",
       "      <td>1.168375e-15</td>\n",
       "      <td>3.416908e-16</td>\n",
       "      <td>-1.379537e-15</td>\n",
       "      <td>2.074095e-15</td>\n",
       "      <td>9.604066e-16</td>\n",
       "      <td>1.487313e-15</td>\n",
       "      <td>-5.556467e-16</td>\n",
       "      <td>1.213481e-16</td>\n",
       "      <td>-2.406331e-15</td>\n",
       "      <td>...</td>\n",
       "      <td>1.654067e-16</td>\n",
       "      <td>-3.568593e-16</td>\n",
       "      <td>2.578648e-16</td>\n",
       "      <td>4.473266e-15</td>\n",
       "      <td>5.340915e-16</td>\n",
       "      <td>1.683437e-15</td>\n",
       "      <td>-3.660091e-16</td>\n",
       "      <td>-1.227390e-16</td>\n",
       "      <td>88.349619</td>\n",
       "      <td>0.001727</td>\n",
       "    </tr>\n",
       "    <tr>\n",
       "      <th>std</th>\n",
       "      <td>47488.145955</td>\n",
       "      <td>1.958696e+00</td>\n",
       "      <td>1.651309e+00</td>\n",
       "      <td>1.516255e+00</td>\n",
       "      <td>1.415869e+00</td>\n",
       "      <td>1.380247e+00</td>\n",
       "      <td>1.332271e+00</td>\n",
       "      <td>1.237094e+00</td>\n",
       "      <td>1.194353e+00</td>\n",
       "      <td>1.098632e+00</td>\n",
       "      <td>...</td>\n",
       "      <td>7.345240e-01</td>\n",
       "      <td>7.257016e-01</td>\n",
       "      <td>6.244603e-01</td>\n",
       "      <td>6.056471e-01</td>\n",
       "      <td>5.212781e-01</td>\n",
       "      <td>4.822270e-01</td>\n",
       "      <td>4.036325e-01</td>\n",
       "      <td>3.300833e-01</td>\n",
       "      <td>250.120109</td>\n",
       "      <td>0.041527</td>\n",
       "    </tr>\n",
       "    <tr>\n",
       "      <th>min</th>\n",
       "      <td>0.000000</td>\n",
       "      <td>-5.640751e+01</td>\n",
       "      <td>-7.271573e+01</td>\n",
       "      <td>-4.832559e+01</td>\n",
       "      <td>-5.683171e+00</td>\n",
       "      <td>-1.137433e+02</td>\n",
       "      <td>-2.616051e+01</td>\n",
       "      <td>-4.355724e+01</td>\n",
       "      <td>-7.321672e+01</td>\n",
       "      <td>-1.343407e+01</td>\n",
       "      <td>...</td>\n",
       "      <td>-3.483038e+01</td>\n",
       "      <td>-1.093314e+01</td>\n",
       "      <td>-4.480774e+01</td>\n",
       "      <td>-2.836627e+00</td>\n",
       "      <td>-1.029540e+01</td>\n",
       "      <td>-2.604551e+00</td>\n",
       "      <td>-2.256568e+01</td>\n",
       "      <td>-1.543008e+01</td>\n",
       "      <td>0.000000</td>\n",
       "      <td>0.000000</td>\n",
       "    </tr>\n",
       "    <tr>\n",
       "      <th>25%</th>\n",
       "      <td>54201.500000</td>\n",
       "      <td>-9.203734e-01</td>\n",
       "      <td>-5.985499e-01</td>\n",
       "      <td>-8.903648e-01</td>\n",
       "      <td>-8.486401e-01</td>\n",
       "      <td>-6.915971e-01</td>\n",
       "      <td>-7.682956e-01</td>\n",
       "      <td>-5.540759e-01</td>\n",
       "      <td>-2.086297e-01</td>\n",
       "      <td>-6.430976e-01</td>\n",
       "      <td>...</td>\n",
       "      <td>-2.283949e-01</td>\n",
       "      <td>-5.423504e-01</td>\n",
       "      <td>-1.618463e-01</td>\n",
       "      <td>-3.545861e-01</td>\n",
       "      <td>-3.171451e-01</td>\n",
       "      <td>-3.269839e-01</td>\n",
       "      <td>-7.083953e-02</td>\n",
       "      <td>-5.295979e-02</td>\n",
       "      <td>5.600000</td>\n",
       "      <td>0.000000</td>\n",
       "    </tr>\n",
       "    <tr>\n",
       "      <th>50%</th>\n",
       "      <td>84692.000000</td>\n",
       "      <td>1.810880e-02</td>\n",
       "      <td>6.548556e-02</td>\n",
       "      <td>1.798463e-01</td>\n",
       "      <td>-1.984653e-02</td>\n",
       "      <td>-5.433583e-02</td>\n",
       "      <td>-2.741871e-01</td>\n",
       "      <td>4.010308e-02</td>\n",
       "      <td>2.235804e-02</td>\n",
       "      <td>-5.142873e-02</td>\n",
       "      <td>...</td>\n",
       "      <td>-2.945017e-02</td>\n",
       "      <td>6.781943e-03</td>\n",
       "      <td>-1.119293e-02</td>\n",
       "      <td>4.097606e-02</td>\n",
       "      <td>1.659350e-02</td>\n",
       "      <td>-5.213911e-02</td>\n",
       "      <td>1.342146e-03</td>\n",
       "      <td>1.124383e-02</td>\n",
       "      <td>22.000000</td>\n",
       "      <td>0.000000</td>\n",
       "    </tr>\n",
       "    <tr>\n",
       "      <th>75%</th>\n",
       "      <td>139320.500000</td>\n",
       "      <td>1.315642e+00</td>\n",
       "      <td>8.037239e-01</td>\n",
       "      <td>1.027196e+00</td>\n",
       "      <td>7.433413e-01</td>\n",
       "      <td>6.119264e-01</td>\n",
       "      <td>3.985649e-01</td>\n",
       "      <td>5.704361e-01</td>\n",
       "      <td>3.273459e-01</td>\n",
       "      <td>5.971390e-01</td>\n",
       "      <td>...</td>\n",
       "      <td>1.863772e-01</td>\n",
       "      <td>5.285536e-01</td>\n",
       "      <td>1.476421e-01</td>\n",
       "      <td>4.395266e-01</td>\n",
       "      <td>3.507156e-01</td>\n",
       "      <td>2.409522e-01</td>\n",
       "      <td>9.104512e-02</td>\n",
       "      <td>7.827995e-02</td>\n",
       "      <td>77.165000</td>\n",
       "      <td>0.000000</td>\n",
       "    </tr>\n",
       "    <tr>\n",
       "      <th>max</th>\n",
       "      <td>172792.000000</td>\n",
       "      <td>2.454930e+00</td>\n",
       "      <td>2.205773e+01</td>\n",
       "      <td>9.382558e+00</td>\n",
       "      <td>1.687534e+01</td>\n",
       "      <td>3.480167e+01</td>\n",
       "      <td>7.330163e+01</td>\n",
       "      <td>1.205895e+02</td>\n",
       "      <td>2.000721e+01</td>\n",
       "      <td>1.559499e+01</td>\n",
       "      <td>...</td>\n",
       "      <td>2.720284e+01</td>\n",
       "      <td>1.050309e+01</td>\n",
       "      <td>2.252841e+01</td>\n",
       "      <td>4.584549e+00</td>\n",
       "      <td>7.519589e+00</td>\n",
       "      <td>3.517346e+00</td>\n",
       "      <td>3.161220e+01</td>\n",
       "      <td>3.384781e+01</td>\n",
       "      <td>25691.160000</td>\n",
       "      <td>1.000000</td>\n",
       "    </tr>\n",
       "  </tbody>\n",
       "</table>\n",
       "<p>8 rows × 31 columns</p>\n",
       "</div>"
      ],
      "text/plain": [
       "                Time            V1            V2            V3            V4  \\\n",
       "count  284807.000000  2.848070e+05  2.848070e+05  2.848070e+05  2.848070e+05   \n",
       "mean    94813.859575  1.168375e-15  3.416908e-16 -1.379537e-15  2.074095e-15   \n",
       "std     47488.145955  1.958696e+00  1.651309e+00  1.516255e+00  1.415869e+00   \n",
       "min         0.000000 -5.640751e+01 -7.271573e+01 -4.832559e+01 -5.683171e+00   \n",
       "25%     54201.500000 -9.203734e-01 -5.985499e-01 -8.903648e-01 -8.486401e-01   \n",
       "50%     84692.000000  1.810880e-02  6.548556e-02  1.798463e-01 -1.984653e-02   \n",
       "75%    139320.500000  1.315642e+00  8.037239e-01  1.027196e+00  7.433413e-01   \n",
       "max    172792.000000  2.454930e+00  2.205773e+01  9.382558e+00  1.687534e+01   \n",
       "\n",
       "                 V5            V6            V7            V8            V9  \\\n",
       "count  2.848070e+05  2.848070e+05  2.848070e+05  2.848070e+05  2.848070e+05   \n",
       "mean   9.604066e-16  1.487313e-15 -5.556467e-16  1.213481e-16 -2.406331e-15   \n",
       "std    1.380247e+00  1.332271e+00  1.237094e+00  1.194353e+00  1.098632e+00   \n",
       "min   -1.137433e+02 -2.616051e+01 -4.355724e+01 -7.321672e+01 -1.343407e+01   \n",
       "25%   -6.915971e-01 -7.682956e-01 -5.540759e-01 -2.086297e-01 -6.430976e-01   \n",
       "50%   -5.433583e-02 -2.741871e-01  4.010308e-02  2.235804e-02 -5.142873e-02   \n",
       "75%    6.119264e-01  3.985649e-01  5.704361e-01  3.273459e-01  5.971390e-01   \n",
       "max    3.480167e+01  7.330163e+01  1.205895e+02  2.000721e+01  1.559499e+01   \n",
       "\n",
       "       ...           V21           V22           V23           V24  \\\n",
       "count  ...  2.848070e+05  2.848070e+05  2.848070e+05  2.848070e+05   \n",
       "mean   ...  1.654067e-16 -3.568593e-16  2.578648e-16  4.473266e-15   \n",
       "std    ...  7.345240e-01  7.257016e-01  6.244603e-01  6.056471e-01   \n",
       "min    ... -3.483038e+01 -1.093314e+01 -4.480774e+01 -2.836627e+00   \n",
       "25%    ... -2.283949e-01 -5.423504e-01 -1.618463e-01 -3.545861e-01   \n",
       "50%    ... -2.945017e-02  6.781943e-03 -1.119293e-02  4.097606e-02   \n",
       "75%    ...  1.863772e-01  5.285536e-01  1.476421e-01  4.395266e-01   \n",
       "max    ...  2.720284e+01  1.050309e+01  2.252841e+01  4.584549e+00   \n",
       "\n",
       "                V25           V26           V27           V28         Amount  \\\n",
       "count  2.848070e+05  2.848070e+05  2.848070e+05  2.848070e+05  284807.000000   \n",
       "mean   5.340915e-16  1.683437e-15 -3.660091e-16 -1.227390e-16      88.349619   \n",
       "std    5.212781e-01  4.822270e-01  4.036325e-01  3.300833e-01     250.120109   \n",
       "min   -1.029540e+01 -2.604551e+00 -2.256568e+01 -1.543008e+01       0.000000   \n",
       "25%   -3.171451e-01 -3.269839e-01 -7.083953e-02 -5.295979e-02       5.600000   \n",
       "50%    1.659350e-02 -5.213911e-02  1.342146e-03  1.124383e-02      22.000000   \n",
       "75%    3.507156e-01  2.409522e-01  9.104512e-02  7.827995e-02      77.165000   \n",
       "max    7.519589e+00  3.517346e+00  3.161220e+01  3.384781e+01   25691.160000   \n",
       "\n",
       "               Class  \n",
       "count  284807.000000  \n",
       "mean        0.001727  \n",
       "std         0.041527  \n",
       "min         0.000000  \n",
       "25%         0.000000  \n",
       "50%         0.000000  \n",
       "75%         0.000000  \n",
       "max         1.000000  \n",
       "\n",
       "[8 rows x 31 columns]"
      ]
     },
     "execution_count": 97,
     "metadata": {},
     "output_type": "execute_result"
    }
   ],
   "source": [
    "df.describe()"
   ]
  },
  {
   "cell_type": "code",
   "execution_count": 98,
   "id": "beed04bd",
   "metadata": {},
   "outputs": [
    {
     "name": "stdout",
     "output_type": "stream",
     "text": [
      "<class 'pandas.core.frame.DataFrame'>\n",
      "RangeIndex: 284807 entries, 0 to 284806\n",
      "Data columns (total 31 columns):\n",
      " #   Column  Non-Null Count   Dtype  \n",
      "---  ------  --------------   -----  \n",
      " 0   Time    284807 non-null  float64\n",
      " 1   V1      284807 non-null  float64\n",
      " 2   V2      284807 non-null  float64\n",
      " 3   V3      284807 non-null  float64\n",
      " 4   V4      284807 non-null  float64\n",
      " 5   V5      284807 non-null  float64\n",
      " 6   V6      284807 non-null  float64\n",
      " 7   V7      284807 non-null  float64\n",
      " 8   V8      284807 non-null  float64\n",
      " 9   V9      284807 non-null  float64\n",
      " 10  V10     284807 non-null  float64\n",
      " 11  V11     284807 non-null  float64\n",
      " 12  V12     284807 non-null  float64\n",
      " 13  V13     284807 non-null  float64\n",
      " 14  V14     284807 non-null  float64\n",
      " 15  V15     284807 non-null  float64\n",
      " 16  V16     284807 non-null  float64\n",
      " 17  V17     284807 non-null  float64\n",
      " 18  V18     284807 non-null  float64\n",
      " 19  V19     284807 non-null  float64\n",
      " 20  V20     284807 non-null  float64\n",
      " 21  V21     284807 non-null  float64\n",
      " 22  V22     284807 non-null  float64\n",
      " 23  V23     284807 non-null  float64\n",
      " 24  V24     284807 non-null  float64\n",
      " 25  V25     284807 non-null  float64\n",
      " 26  V26     284807 non-null  float64\n",
      " 27  V27     284807 non-null  float64\n",
      " 28  V28     284807 non-null  float64\n",
      " 29  Amount  284807 non-null  float64\n",
      " 30  Class   284807 non-null  int64  \n",
      "dtypes: float64(30), int64(1)\n",
      "memory usage: 67.4 MB\n"
     ]
    }
   ],
   "source": [
    "df.info()"
   ]
  },
  {
   "cell_type": "code",
   "execution_count": 99,
   "id": "3490b910",
   "metadata": {},
   "outputs": [
    {
     "data": {
      "text/plain": [
       "Time      0\n",
       "V1        0\n",
       "V2        0\n",
       "V3        0\n",
       "V4        0\n",
       "V5        0\n",
       "V6        0\n",
       "V7        0\n",
       "V8        0\n",
       "V9        0\n",
       "V10       0\n",
       "V11       0\n",
       "V12       0\n",
       "V13       0\n",
       "V14       0\n",
       "V15       0\n",
       "V16       0\n",
       "V17       0\n",
       "V18       0\n",
       "V19       0\n",
       "V20       0\n",
       "V21       0\n",
       "V22       0\n",
       "V23       0\n",
       "V24       0\n",
       "V25       0\n",
       "V26       0\n",
       "V27       0\n",
       "V28       0\n",
       "Amount    0\n",
       "Class     0\n",
       "dtype: int64"
      ]
     },
     "execution_count": 99,
     "metadata": {},
     "output_type": "execute_result"
    }
   ],
   "source": [
    "df.isnull().sum()"
   ]
  },
  {
   "cell_type": "code",
   "execution_count": 100,
   "id": "2d6cb9bf",
   "metadata": {},
   "outputs": [],
   "source": [
    "sorted_corr = df.corrwith(df['Class']).to_frame(name = 'Correlation').sort_values(by = 'Correlation', ascending= False)"
   ]
  },
  {
   "cell_type": "code",
   "execution_count": 101,
   "id": "81fcfc03",
   "metadata": {},
   "outputs": [
    {
     "data": {
      "text/plain": [
       "<Axes: >"
      ]
     },
     "execution_count": 101,
     "metadata": {},
     "output_type": "execute_result"
    },
    {
     "data": {
      "image/png": "[encoded data removed]",
      "text/plain": [
       "<Figure size 640x480 with 2 Axes>"
      ]
     },
     "metadata": {},
     "output_type": "display_data"
    }
   ],
   "source": [
    "sns.heatmap(sorted_corr, linewidths= 1, linecolor= 'black', annot = True, yticklabels=True)"
   ]
  },
  {
   "cell_type": "code",
   "execution_count": 102,
   "id": "75fe51ab",
   "metadata": {},
   "outputs": [
    {
     "data": {
      "text/plain": [
       "<Axes: xlabel='Class', ylabel='Count'>"
      ]
     },
     "execution_count": 102,
     "metadata": {},
     "output_type": "execute_result"
    },
    {
     "data": {
      "image/png": "[encoded data removed]",
      "text/plain": [
       "<Figure size 640x480 with 1 Axes>"
      ]
     },
     "metadata": {},
     "output_type": "display_data"
    }
   ],
   "source": [
    "sns.histplot(df['Class'])"
   ]
  },
  {
   "cell_type": "code",
   "execution_count": 103,
   "id": "2742e44d",
   "metadata": {},
   "outputs": [],
   "source": [
    "def rangeOfCols(df):\n",
    "    for col in df.columns:\n",
    "        print(f'{col} --> min: {df[col].min()}   max: {df[col].max()}')"
   ]
  },
  {
   "cell_type": "code",
   "execution_count": 104,
   "id": "32a301ab",
   "metadata": {},
   "outputs": [
    {
     "name": "stdout",
     "output_type": "stream",
     "text": [
      "Time --> min: 0.0   max: 172792.0\n",
      "V1 --> min: -56.407509631329   max: 2.45492999121121\n",
      "V2 --> min: -72.7157275629303   max: 22.0577289904909\n",
      "V3 --> min: -48.3255893623954   max: 9.38255843282114\n",
      "V4 --> min: -5.68317119816995   max: 16.8753440335975\n",
      "V5 --> min: -113.743306711146   max: 34.8016658766686\n",
      "V6 --> min: -26.1605059358433   max: 73.3016255459646\n",
      "V7 --> min: -43.5572415712451   max: 120.589493945238\n",
      "V8 --> min: -73.2167184552674   max: 20.0072083651213\n",
      "V9 --> min: -13.4340663182301   max: 15.5949946071278\n",
      "V10 --> min: -24.5882624372475   max: 23.7451361206545\n",
      "V11 --> min: -4.79747346479757   max: 12.0189131816199\n",
      "V12 --> min: -18.6837146333443   max: 7.8483920756446\n",
      "V13 --> min: -5.79188120632084   max: 7.12688295859376\n",
      "V14 --> min: -19.2143254902614   max: 10.5267660517847\n",
      "V15 --> min: -4.49894467676621   max: 8.87774159774277\n",
      "V16 --> min: -14.1298545174931   max: 17.3151115176278\n",
      "V17 --> min: -25.1627993693248   max: 9.25352625047285\n",
      "V18 --> min: -9.49874592104677   max: 5.04106918541184\n",
      "V19 --> min: -7.21352743017759   max: 5.59197142733558\n",
      "V20 --> min: -54.497720494566   max: 39.4209042482199\n",
      "V21 --> min: -34.8303821448146   max: 27.2028391573154\n",
      "V22 --> min: -10.933143697655   max: 10.5030900899454\n",
      "V23 --> min: -44.8077352037913   max: 22.5284116897749\n",
      "V24 --> min: -2.83662691870341   max: 4.58454913689817\n",
      "V25 --> min: -10.2953970749851   max: 7.51958867870916\n",
      "V26 --> min: -2.60455055280817   max: 3.5173456116238\n",
      "V27 --> min: -22.5656793207827   max: 31.6121981061363\n",
      "V28 --> min: -15.4300839055349   max: 33.8478078188831\n",
      "Amount --> min: 0.0   max: 25691.16\n",
      "Class --> min: 0   max: 1\n"
     ]
    }
   ],
   "source": [
    "rangeOfCols(df)"
   ]
  },
  {
   "cell_type": "code",
   "execution_count": 105,
   "id": "040eb034",
   "metadata": {},
   "outputs": [],
   "source": [
    "numerical_cols = [col for col in df.columns if col != 'Class']"
   ]
  },
  {
   "cell_type": "code",
   "execution_count": 106,
   "id": "00124429",
   "metadata": {},
   "outputs": [
    {
     "name": "stdout",
     "output_type": "stream",
     "text": [
      "['Time', 'V1', 'V2', 'V3', 'V4', 'V5', 'V6', 'V7', 'V8', 'V9', 'V10', 'V11', 'V12', 'V13', 'V14', 'V15', 'V16', 'V17', 'V18', 'V19', 'V20', 'V21', 'V22', 'V23', 'V24', 'V25', 'V26', 'V27', 'V28', 'Amount']\n"
     ]
    }
   ],
   "source": [
    "print(numerical_cols)"
   ]
  },
  {
   "cell_type": "markdown",
   "id": "b7613a85",
   "metadata": {},
   "source": [
    "As the attributes are already PCA transformed, we need not reduce them further"
   ]
  },
  {
   "cell_type": "code",
   "execution_count": 107,
   "id": "2a15a7fd",
   "metadata": {},
   "outputs": [
    {
     "data": {
      "text/plain": [
       "Class\n",
       "0    284315\n",
       "1       492\n",
       "Name: count, dtype: int64"
      ]
     },
     "execution_count": 107,
     "metadata": {},
     "output_type": "execute_result"
    }
   ],
   "source": [
    "df['Class'].value_counts()"
   ]
  },
  {
   "cell_type": "markdown",
   "id": "62947142",
   "metadata": {},
   "source": [
    "We have a considerable class imbalance here, hence, we will be resampling the dataset"
   ]
  },
  {
   "cell_type": "markdown",
   "id": "9cd5b78f",
   "metadata": {},
   "source": [
    "In this project, we will be comparing performance of 4 datasets\n",
    "\n",
    "- Unsampled dataset\n",
    "- Randomly undersampled dataset\n",
    "- SMOTE oversampled dataset\n",
    "- SMOTE-Tomek mixsampled dataset"
   ]
  },
  {
   "cell_type": "markdown",
   "id": "0116001f",
   "metadata": {},
   "source": [
    "***"
   ]
  },
  {
   "cell_type": "markdown",
   "id": "63059476",
   "metadata": {},
   "source": [
    "# Data Preprocessing"
   ]
  },
  {
   "cell_type": "markdown",
   "id": "5acd9150",
   "metadata": {},
   "source": [
    "### Unsampled dataset"
   ]
  },
  {
   "cell_type": "code",
   "execution_count": 108,
   "id": "3e4adaaa",
   "metadata": {},
   "outputs": [],
   "source": [
    "X = df[numerical_cols]\n",
    "y = df['Class']"
   ]
  },
  {
   "cell_type": "code",
   "execution_count": 109,
   "id": "2d62d18f",
   "metadata": {},
   "outputs": [],
   "source": [
    "X_train, X_test, y_train, y_test = train_test_split(X, y, test_size=0.2, random_state=12)"
   ]
  },
  {
   "cell_type": "markdown",
   "id": "1db2471b",
   "metadata": {},
   "source": [
    "## Uncomment from below the line to the end of the next line to create resampled dataset\n",
    "***"
   ]
  },
  {
   "cell_type": "markdown",
   "id": "a7ce9f99",
   "metadata": {},
   "source": [
    "<!-- ### Randomly undersampled dataset -->\n"
   ]
  },
  {
   "cell_type": "markdown",
   "id": "2d552580",
   "metadata": {},
   "source": [
    "<!-- Instantiating the random undersampler -->\n"
   ]
  },
  {
   "cell_type": "code",
   "execution_count": 110,
   "id": "08b55372",
   "metadata": {},
   "outputs": [],
   "source": [
    "# rus = RandomUnderSampler(random_state = 12)\n",
    "# X_usTrain, y_usTrain = rus.fit_resample(X_train, y_train)"
   ]
  },
  {
   "cell_type": "markdown",
   "id": "92350a43",
   "metadata": {},
   "source": [
    "<!-- ### SMOTE oversampled dataset -->\n"
   ]
  },
  {
   "cell_type": "code",
   "execution_count": 111,
   "id": "200edc66",
   "metadata": {},
   "outputs": [],
   "source": [
    "# sm = SMOTE(random_state = 12, sampling_strategy= 'minority')\n",
    "# X_smTrain , y_smTrain= sm.fit_resample(X_train, y_train)\n",
    "# y_smTrain.count()"
   ]
  },
  {
   "cell_type": "markdown",
   "id": "e813ab4b",
   "metadata": {},
   "source": [
    "<!-- ### SMOTE-Tomek mixsampled dataset -->\n"
   ]
  },
  {
   "cell_type": "code",
   "execution_count": 112,
   "id": "f9245c88",
   "metadata": {},
   "outputs": [],
   "source": [
    "# smt = SMOTETomek(random_state=12)\n",
    "# X_smtTrain, y_smtTrain = smt.fit_resample(X_train, y_train)"
   ]
  },
  {
   "cell_type": "code",
   "execution_count": 113,
   "id": "fdbc4e71",
   "metadata": {},
   "outputs": [],
   "source": [
    "# sns.histplot(y_smtTrain)"
   ]
  },
  {
   "cell_type": "code",
   "execution_count": 114,
   "id": "e4a52393",
   "metadata": {},
   "outputs": [],
   "source": [
    "# y_smtTrain.count()"
   ]
  },
  {
   "cell_type": "code",
   "execution_count": 115,
   "id": "29bd9eae",
   "metadata": {},
   "outputs": [],
   "source": [
    "# df_Train = pd.concat([X_train, y_train], axis=1)\n",
    "# df_UTrain = pd.concat([X_usTrain, y_usTrain], axis=1)\n",
    "# df_SMOTETrain = pd.concat([X_smTrain, y_smTrain], axis=1)\n",
    "# df_SMOTETomekTrain = pd.concat([X_smtTrain, y_smtTrain], axis=1)"
   ]
  },
  {
   "cell_type": "markdown",
   "id": "3e5677e5",
   "metadata": {},
   "source": [
    "<!-- ### Saving training datasets -->"
   ]
  },
  {
   "cell_type": "code",
   "execution_count": 116,
   "id": "eb9349f1",
   "metadata": {},
   "outputs": [],
   "source": [
    "# df_Train.to_csv('data/normalTrain.csv', index = False)\n",
    "# df_UTrain.to_csv('data/underTrain.csv', index = False)\n",
    "# df_SMOTETrain.to_csv('data/SMOTETrain.csv', index = False)\n",
    "# df_SMOTETomekTrain.to_csv('data/SMOTETomekTrain.csv', index = False)"
   ]
  },
  {
   "cell_type": "markdown",
   "id": "33f47337",
   "metadata": {},
   "source": [
    "***"
   ]
  },
  {
   "cell_type": "code",
   "execution_count": 117,
   "id": "0f7f5e87",
   "metadata": {},
   "outputs": [],
   "source": [
    "## Loading datasets created above\n",
    "\n",
    "df_Train = pd.read_csv('data/normalTrain.csv')\n",
    "df_UTrain = pd.read_csv('data/underTrain.csv')\n",
    "df_SMOTETrain = pd.read_csv('data/SMOTETrain.csv')\n",
    "df_SMOTETomekTrain = pd.read_csv('data/SMOTETomekTrain.csv')"
   ]
  },
  {
   "cell_type": "code",
   "execution_count": 118,
   "id": "5c78c71c",
   "metadata": {},
   "outputs": [],
   "source": [
    "datasets = [df_Train, df_UTrain, df_SMOTETrain, df_SMOTETomekTrain]"
   ]
  },
  {
   "cell_type": "markdown",
   "id": "7c6f6c8b",
   "metadata": {},
   "source": [
    "Scaling all datasets using MinMaxScaler (Normalization)"
   ]
  },
  {
   "cell_type": "code",
   "execution_count": 119,
   "id": "7bbd8697",
   "metadata": {},
   "outputs": [],
   "source": [
    "mmScale = MinMaxScaler()"
   ]
  },
  {
   "cell_type": "code",
   "execution_count": 120,
   "id": "d0316fc2",
   "metadata": {},
   "outputs": [],
   "source": [
    "X_scaled = []\n",
    "y_for_X_scaled = []"
   ]
  },
  {
   "cell_type": "code",
   "execution_count": 121,
   "id": "975173b2",
   "metadata": {},
   "outputs": [],
   "source": [
    "def datasetScaler(list):\n",
    "    for dset in list:\n",
    "        scaled_df = dset.copy(deep=True)\n",
    "\n",
    "        features = scaled_df.drop(columns='Class')\n",
    "        labels = scaled_df['Class']\n",
    "\n",
    "        scaled_features = mmScale.fit_transform(features)\n",
    "\n",
    "        scaled_df = pd.DataFrame(scaled_features, columns=features.columns, index=dset.index)\n",
    "\n",
    "        X_scaled.append(scaled_df)\n",
    "        y_for_X_scaled.append(labels)"
   ]
  },
  {
   "cell_type": "code",
   "execution_count": 122,
   "id": "95b43b4b",
   "metadata": {},
   "outputs": [],
   "source": [
    "datasetScaler(datasets)"
   ]
  },
  {
   "cell_type": "code",
   "execution_count": 123,
   "id": "e703272c",
   "metadata": {},
   "outputs": [
    {
     "name": "stdout",
     "output_type": "stream",
     "text": [
      "\n",
      "\n",
      "Time --> min: 0.0   max: 1.0\n",
      "V1 --> min: 0.0   max: 1.0\n",
      "V2 --> min: 0.0   max: 1.0\n",
      "V3 --> min: 0.0   max: 1.0\n",
      "V4 --> min: 0.0   max: 1.0\n",
      "V5 --> min: 0.0   max: 0.9999999999999999\n",
      "V6 --> min: 0.0   max: 0.9999999999999999\n",
      "V7 --> min: 0.0   max: 1.0\n",
      "V8 --> min: 0.0   max: 1.0\n",
      "V9 --> min: 0.0   max: 1.0\n",
      "V10 --> min: 0.0   max: 1.0\n",
      "V11 --> min: 0.0   max: 1.0\n",
      "V12 --> min: 0.0   max: 1.0\n",
      "V13 --> min: 0.0   max: 1.0\n",
      "V14 --> min: 0.0   max: 0.9999999999999999\n",
      "V15 --> min: 0.0   max: 1.0\n",
      "V16 --> min: 0.0   max: 1.0\n",
      "V17 --> min: 0.0   max: 1.0\n",
      "V18 --> min: 0.0   max: 1.0\n",
      "V19 --> min: 0.0   max: 1.0\n",
      "V20 --> min: 0.0   max: 1.0\n",
      "V21 --> min: 0.0   max: 0.9999999999999999\n",
      "V22 --> min: 0.0   max: 1.0\n",
      "V23 --> min: 0.0   max: 1.0\n",
      "V24 --> min: 0.0   max: 0.9999999999999998\n",
      "V25 --> min: 0.0   max: 1.0\n",
      "V26 --> min: 0.0   max: 1.0\n",
      "V27 --> min: 0.0   max: 1.0\n",
      "V28 --> min: 0.0   max: 1.0\n",
      "Amount --> min: 0.0   max: 1.0\n",
      "\n",
      "\n",
      "Time --> min: 0.0   max: 1.0\n",
      "V1 --> min: 0.0   max: 0.9999999999999999\n",
      "V2 --> min: 0.0   max: 1.0\n",
      "V3 --> min: 0.0   max: 1.0\n",
      "V4 --> min: 0.0   max: 1.0\n",
      "V5 --> min: 0.0   max: 1.0\n",
      "V6 --> min: 0.0   max: 0.9999999999999999\n",
      "V7 --> min: 0.0   max: 1.0\n",
      "V8 --> min: 0.0   max: 1.0\n",
      "V9 --> min: 0.0   max: 0.9999999999999999\n",
      "V10 --> min: 0.0   max: 1.0\n",
      "V11 --> min: 0.0   max: 1.0\n",
      "V12 --> min: 0.0   max: 1.0\n",
      "V13 --> min: 0.0   max: 1.0\n",
      "V14 --> min: 0.0   max: 1.0\n",
      "V15 --> min: 0.0   max: 1.0\n",
      "V16 --> min: 0.0   max: 1.0\n",
      "V17 --> min: 0.0   max: 1.0\n",
      "V18 --> min: 0.0   max: 1.0\n",
      "V19 --> min: 0.0   max: 0.9999999999999998\n",
      "V20 --> min: 0.0   max: 0.9999999999999999\n",
      "V21 --> min: 0.0   max: 1.0\n",
      "V22 --> min: 0.0   max: 1.0\n",
      "V23 --> min: 0.0   max: 1.0\n",
      "V24 --> min: 0.0   max: 1.0000000000000002\n",
      "V25 --> min: 0.0   max: 1.0\n",
      "V26 --> min: 0.0   max: 1.0\n",
      "V27 --> min: 0.0   max: 1.0\n",
      "V28 --> min: 0.0   max: 1.0\n",
      "Amount --> min: 0.0   max: 1.0\n",
      "\n",
      "\n",
      "Time --> min: 0.0   max: 1.0\n",
      "V1 --> min: 0.0   max: 1.0\n",
      "V2 --> min: 0.0   max: 1.0\n",
      "V3 --> min: 0.0   max: 1.0\n",
      "V4 --> min: 0.0   max: 1.0\n",
      "V5 --> min: 0.0   max: 0.9999999999999999\n",
      "V6 --> min: 0.0   max: 0.9999999999999999\n",
      "V7 --> min: 0.0   max: 1.0\n",
      "V8 --> min: 0.0   max: 1.0\n",
      "V9 --> min: 0.0   max: 1.0\n",
      "V10 --> min: 0.0   max: 1.0\n",
      "V11 --> min: 0.0   max: 1.0\n",
      "V12 --> min: 0.0   max: 1.0\n",
      "V13 --> min: 0.0   max: 1.0\n",
      "V14 --> min: 0.0   max: 0.9999999999999999\n",
      "V15 --> min: 0.0   max: 1.0\n",
      "V16 --> min: 0.0   max: 1.0\n",
      "V17 --> min: 0.0   max: 1.0\n",
      "V18 --> min: 0.0   max: 1.0\n",
      "V19 --> min: 0.0   max: 1.0\n",
      "V20 --> min: 0.0   max: 1.0\n",
      "V21 --> min: 0.0   max: 0.9999999999999999\n",
      "V22 --> min: 0.0   max: 1.0\n",
      "V23 --> min: 0.0   max: 1.0\n",
      "V24 --> min: 0.0   max: 0.9999999999999998\n",
      "V25 --> min: 0.0   max: 1.0\n",
      "V26 --> min: 0.0   max: 1.0\n",
      "V27 --> min: 0.0   max: 1.0\n",
      "V28 --> min: 0.0   max: 1.0\n",
      "Amount --> min: 0.0   max: 1.0\n",
      "\n",
      "\n",
      "Time --> min: 0.0   max: 1.0\n",
      "V1 --> min: 0.0   max: 1.0\n",
      "V2 --> min: 0.0   max: 1.0\n",
      "V3 --> min: 0.0   max: 1.0\n",
      "V4 --> min: 0.0   max: 1.0\n",
      "V5 --> min: 0.0   max: 0.9999999999999999\n",
      "V6 --> min: 0.0   max: 0.9999999999999999\n",
      "V7 --> min: 0.0   max: 1.0\n",
      "V8 --> min: 0.0   max: 1.0\n",
      "V9 --> min: 0.0   max: 1.0\n",
      "V10 --> min: 0.0   max: 1.0\n",
      "V11 --> min: 0.0   max: 1.0\n",
      "V12 --> min: 0.0   max: 1.0\n",
      "V13 --> min: 0.0   max: 1.0\n",
      "V14 --> min: 0.0   max: 0.9999999999999999\n",
      "V15 --> min: 0.0   max: 1.0\n",
      "V16 --> min: 0.0   max: 1.0\n",
      "V17 --> min: 0.0   max: 1.0\n",
      "V18 --> min: 0.0   max: 1.0\n",
      "V19 --> min: 0.0   max: 1.0\n",
      "V20 --> min: 0.0   max: 1.0\n",
      "V21 --> min: 0.0   max: 0.9999999999999999\n",
      "V22 --> min: 0.0   max: 1.0\n",
      "V23 --> min: 0.0   max: 1.0\n",
      "V24 --> min: 0.0   max: 0.9999999999999998\n",
      "V25 --> min: 0.0   max: 1.0\n",
      "V26 --> min: 0.0   max: 1.0\n",
      "V27 --> min: 0.0   max: 1.0\n",
      "V28 --> min: 0.0   max: 1.0\n",
      "Amount --> min: 0.0   max: 1.0\n"
     ]
    }
   ],
   "source": [
    "for ds in X_scaled:\n",
    "    print('\\n')\n",
    "    rangeOfCols(ds)"
   ]
  },
  {
   "cell_type": "markdown",
   "id": "583aef7e",
   "metadata": {},
   "source": [
    "# Model Training with Cross Validation"
   ]
  },
  {
   "cell_type": "markdown",
   "id": "02808711",
   "metadata": {},
   "source": [
    "We will be testing these models:\n",
    "\n",
    "- Logistic Regression (Cost insensitive and cost sensitive)\n",
    "- Decision Tree (Cost insensitive and cost sensitive)\n",
    "- XGBoost (Cost insensitive and cost sensitive)\n",
    "- Random Forest (Cost insensitive and cost sensitive)\n",
    "- KNN (Cost insensitive and cost sensitive)\n",
    "- Gaussian Naive Bayes (Cost insensitive and cost sensitive)\n",
    "- Neural Network (Cost insensitive and cost sensitive)\n",
    "- Deep Neural Network (Cost insensivite and cost sensitive)\n",
    "\n",
    "We will be testing all combinations of cost sensitive and insensitive models with unsampled and resampled datasets"
   ]
  },
  {
   "cell_type": "markdown",
   "id": "f6b0ab1e",
   "metadata": {},
   "source": [
    "We will be using a standard heuristic for penalty of wrongful classification of a class\n",
    "\n",
    "Majority class penalty --> 1\n",
    "Minority class penalty --> sqrt(majority class population / minority class population)\n",
    "\n",
    "Here, we are using the **square root** of the majority/minority ratio because the imbalance of majorit to minority class is beyond the threshold of allowance of the penalty increase to simply use the standard, unexponentiated ratio for penalization of wrongful classification "
   ]
  },
  {
   "cell_type": "code",
   "execution_count": 124,
   "id": "c6635b5f",
   "metadata": {},
   "outputs": [],
   "source": [
    "ratio = df['Class'].value_counts()[0]/df['Class'].value_counts()[1]"
   ]
  },
  {
   "cell_type": "code",
   "execution_count": 125,
   "id": "b4568ec2",
   "metadata": {},
   "outputs": [
    {
     "data": {
      "text/plain": [
       "577.8760162601626"
      ]
     },
     "execution_count": 125,
     "metadata": {},
     "output_type": "execute_result"
    }
   ],
   "source": [
    "ratio"
   ]
  },
  {
   "cell_type": "code",
   "execution_count": 126,
   "id": "90f29a7d",
   "metadata": {},
   "outputs": [],
   "source": [
    "class_weights = {'balanced': { 0 : 1,\n",
    "                               1 : ratio},\n",
    "                               \n",
    "                 'sqrt' : { 0 : 1,\n",
    "                            1 : np.sqrt(ratio)}\n",
    "                }"
   ]
  },
  {
   "cell_type": "markdown",
   "id": "6b7bf037",
   "metadata": {},
   "source": [
    "#### Models initialized"
   ]
  },
  {
   "cell_type": "markdown",
   "id": "7af78b8a",
   "metadata": {},
   "source": [
    "Logistic Regressor"
   ]
  },
  {
   "cell_type": "code",
   "execution_count": 128,
   "id": "8951eb1e",
   "metadata": {},
   "outputs": [],
   "source": [
    "lgr = LogisticRegression(random_state = 12)"
   ]
  },
  {
   "cell_type": "markdown",
   "id": "b5a1dfc8",
   "metadata": {},
   "source": [
    "Decision Tree"
   ]
  },
  {
   "cell_type": "code",
   "execution_count": 135,
   "id": "aa109409",
   "metadata": {},
   "outputs": [],
   "source": [
    "dTree = DecisionTreeClassifier()"
   ]
  },
  {
   "cell_type": "markdown",
   "id": "be0f4947",
   "metadata": {},
   "source": [
    "Random Forest"
   ]
  },
  {
   "cell_type": "code",
   "execution_count": 136,
   "id": "c99fa849",
   "metadata": {},
   "outputs": [],
   "source": [
    "rf = RandomForestClassifier()"
   ]
  },
  {
   "cell_type": "markdown",
   "id": "fd98e089",
   "metadata": {},
   "source": [
    "K Nearest Neighbors"
   ]
  },
  {
   "cell_type": "code",
   "execution_count": 137,
   "id": "03140afe",
   "metadata": {},
   "outputs": [],
   "source": [
    "knn = KNeighborsClassifier()"
   ]
  },
  {
   "cell_type": "markdown",
   "id": "e7728071",
   "metadata": {},
   "source": [
    "Gaussian Naive Bayes"
   ]
  },
  {
   "cell_type": "code",
   "execution_count": 138,
   "id": "5f550c33",
   "metadata": {},
   "outputs": [],
   "source": [
    "gnb = GaussianNB()"
   ]
  },
  {
   "cell_type": "markdown",
   "id": "ffb68189",
   "metadata": {},
   "source": [
    "# Hyperparameter Tuning"
   ]
  },
  {
   "cell_type": "markdown",
   "id": "fd595353",
   "metadata": {},
   "source": [
    "# Evaluation and Metrics"
   ]
  },
  {
   "cell_type": "markdown",
   "id": "b08edc1a",
   "metadata": {},
   "source": [
    "# Feature Importance"
   ]
  }
 ],
 "metadata": {
  "kernelspec": {
   "display_name": "Python 3",
   "language": "python",
   "name": "python3"
  },
  "language_info": {
   "codemirror_mode": {
    "name": "ipython",
    "version": 3
   },
   "file_extension": ".py",
   "mimetype": "text/x-python",
   "name": "python",
   "nbconvert_exporter": "python",
   "pygments_lexer": "ipython3",
   "version": "3.10.4"
  }
 },
 "nbformat": 4,
 "nbformat_minor": 5
}
